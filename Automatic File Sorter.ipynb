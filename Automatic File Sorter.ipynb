{
 "cells": [
  {
   "cell_type": "markdown",
   "id": "21b6da32",
   "metadata": {},
   "source": [
    "Automatic File Sorter in File Explorer"
   ]
  },
  {
   "cell_type": "code",
   "execution_count": 56,
   "id": "1639b0f3",
   "metadata": {},
   "outputs": [],
   "source": [
    "import os, shutil"
   ]
  },
  {
   "cell_type": "code",
   "execution_count": 57,
   "id": "8c6613d2",
   "metadata": {},
   "outputs": [],
   "source": [
    "path = r\"C:/Users/Bakhrom/OneDrive/Рабочий стол/Python Files/\""
   ]
  },
  {
   "cell_type": "code",
   "execution_count": 58,
   "id": "088e57d7",
   "metadata": {},
   "outputs": [],
   "source": [
    "file_name = os.listdir(path)"
   ]
  },
  {
   "cell_type": "code",
   "execution_count": 60,
   "id": "a4627d66",
   "metadata": {},
   "outputs": [
    {
     "name": "stdout",
     "output_type": "stream",
     "text": [
      "There are files in this path that were not moved!\n",
      "There are files in this path that were not moved!\n",
      "There are files in this path that were not moved!\n",
      "There are files in this path that were not moved!\n",
      "There are files in this path that were not moved!\n",
      "There are files in this path that were not moved!\n",
      "There are files in this path that were not moved!\n"
     ]
    }
   ],
   "source": [
    "folder_names = ['csv files', 'image files', 'text files', 'Word Documents', 'Excel Documents', 'Power Point', 'Power BI']\n",
    "\n",
    "for loop in range(0,7):\n",
    "    if not os.path.exists(path+ folder_names[loop]):\n",
    "        #print(path+ folder_names[loop])\n",
    "        os.makedirs((path + folder_names[loop]))\n",
    "\n",
    "for file in file_name:\n",
    "    if \".csv\" in file and not os.path.exists(path + \"csv files/\" + file):\n",
    "        shutil.move(path + file, path + \"csv files/\" + file)\n",
    "    elif \".png\" in file and not os.path.exists(path + \"image files/\" + file):\n",
    "        shutil.move(path + file, path + \"image files/\" + file)\n",
    "    elif \".txt\" in file and not os.path.exists(path + \"text files/\" + file):\n",
    "        shutil.move(path + file, path + \"text files/\" + file)\n",
    "    elif \".jpg\" in file and not os.path.exists(path + \"image files/\" + file):\n",
    "        shutil.move(path + file, path + \"image files/\" + file)\n",
    "    elif \".docx\" in file and not os.path.exists(path + \"Word Documents/\" + file):\n",
    "        shutil.move(path + file, path + \"Word Documents/\" + file)\n",
    "    elif \".xlsx\" in file and not os.path.exists(path + \"Excel Documents/\" + file):\n",
    "        shutil.move(path + file, path + \"Excel Documents/\" + file)\n",
    "    elif \".pptx\" in file and not os.path.exists(path + \"Power Point/\" + file):\n",
    "        shutil.move(path + file, path + \"Power Point/\" + file)\n",
    "    elif \".pbix\" in file and not os.path.exists(path + \"Power BI/\" + file):\n",
    "        shutil.move(path + file, path + \"Power BI/\" + file)\n",
    "    else:\n",
    "        print(\"There are files in this path that were not moved!\") \n",
    "    "
   ]
  },
  {
   "cell_type": "code",
   "execution_count": null,
   "id": "470e20b1",
   "metadata": {},
   "outputs": [],
   "source": []
  },
  {
   "cell_type": "code",
   "execution_count": null,
   "id": "da291384",
   "metadata": {},
   "outputs": [],
   "source": []
  },
  {
   "cell_type": "code",
   "execution_count": null,
   "id": "d7dff495",
   "metadata": {},
   "outputs": [],
   "source": []
  },
  {
   "cell_type": "code",
   "execution_count": null,
   "id": "24a43fab",
   "metadata": {},
   "outputs": [],
   "source": []
  }
 ],
 "metadata": {
  "kernelspec": {
   "display_name": "Python 3 (ipykernel)",
   "language": "python",
   "name": "python3"
  },
  "language_info": {
   "codemirror_mode": {
    "name": "ipython",
    "version": 3
   },
   "file_extension": ".py",
   "mimetype": "text/x-python",
   "name": "python",
   "nbconvert_exporter": "python",
   "pygments_lexer": "ipython3",
   "version": "3.10.9"
  }
 },
 "nbformat": 4,
 "nbformat_minor": 5
}
