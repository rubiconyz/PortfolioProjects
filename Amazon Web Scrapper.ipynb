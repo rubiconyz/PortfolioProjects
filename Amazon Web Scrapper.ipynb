{
 "cells": [
  {
   "cell_type": "code",
   "execution_count": 1,
   "id": "c7d7a23e",
   "metadata": {},
   "outputs": [],
   "source": [
    "#import libraries\n",
    "from bs4 import BeautifulSoup\n",
    "import requests\n",
    "import time\n",
    "import datetime\n",
    "\n",
    "import smtplib\n"
   ]
  },
  {
   "cell_type": "code",
   "execution_count": 2,
   "id": "6a9eb6a2",
   "metadata": {},
   "outputs": [
    {
     "name": "stdout",
     "output_type": "stream",
     "text": [
      "                                               Title  Price  Rating  \\\n",
      "0  Funny Got Data MIS Data Systems Business Analy...  18.65     5.0   \n",
      "1  Funny Got Data MIS Data Systems Business Analy...  18.65     5.0   \n",
      "2  Funny Got Data MIS Data Systems Business Analy...  18.65     5.0   \n",
      "3  Funny Got Data MIS Data Systems Business Analy...  18.65     5.0   \n",
      "4  Funny Got Data MIS Data Systems Business Analy...  18.65     5.0   \n",
      "5  Funny Got Data MIS Data Systems Business Analy...  18.65     5.0   \n",
      "6  Funny Got Data MIS Data Systems Business Analy...  18.65     5.0   \n",
      "7  Funny Got Data MIS Data Systems Business Analy...  18.65     5.0   \n",
      "8  Funny Got Data MIS Data Systems Business Analy...  18.65     5.0   \n",
      "9  Funny Got Data MIS Data Systems Business Analy...  18.65     5.0   \n",
      "\n",
      "                                         Description        Date  \n",
      "0  Funny Got Data MIS Data Systems Business Analy...  2023-05-12  \n",
      "1  Funny Got Data MIS Data Systems Business Analy...  2023-05-12  \n",
      "2  Funny Got Data MIS Data Systems Business Analy...  2023-05-12  \n",
      "3  Funny Got Data MIS Data Systems Business Analy...  2023-05-12  \n",
      "4  Funny Got Data MIS Data Systems Business Analy...  2023-05-12  \n",
      "5  Funny Got Data MIS Data Systems Business Analy...  2023-05-12  \n",
      "6  Funny Got Data MIS Data Systems Business Analy...  2023-05-12  \n",
      "7  Funny Got Data MIS Data Systems Business Analy...  2023-05-12  \n",
      "8  Funny Got Data MIS Data Systems Business Analy...  2023-05-12  \n",
      "9  Funny Got Data MIS Data Systems Business Analy...  2023-05-12  \n"
     ]
    }
   ],
   "source": [
    "import pandas as pd\n",
    "df = pd.read_csv(r'C:\\Users\\Bakhrom\\Amazon_Web_Scrapper_Dataset.csv')\n",
    "\n",
    "print(df)"
   ]
  },
  {
   "cell_type": "code",
   "execution_count": 3,
   "id": "bedf41ca",
   "metadata": {},
   "outputs": [
    {
     "name": "stdout",
     "output_type": "stream",
     "text": [
      "Funny Got Data MIS Data Systems Business Analyst T-Shirt\n",
      "18.65\n",
      "5.0\n",
      "Funny Got Data MIS Data Systems Business Analyst\" is a fun pickup, perfect for people interested in MIS and interest data systems working in IT or working data consultation. Any business analyster or consultant working with large data will be amazed.\n"
     ]
    }
   ],
   "source": [
    "#Connect to Website\n",
    "URL = 'https://www.amazon.de/-/en/Funny-Systems-Business-Analyst-T-Shirt/dp/B09F32Q8J8/ref=sr_1_5?crid=2HRUWST6GP9N3&keywords=got+data%3F+t-shirt&qid=1683913384&sprefix=got+data+t-shirt%2Caps%2C148&sr=8-5'\n",
    "\n",
    "headers = {\"User-Agent\": \"Mozilla/5.0 (Windows NT 10.0; Win64; x64) AppleWebKit/537.36 (KHTML, like Gecko) Chrome/78.0.3904.108 Safari/537.36\", \"Accept-Encoding\":\"gzip, deflate\", \"Accept\":\"text/html,application/xhtml+xml,application/xml;q=0.9,*/*;q=0.8\", \"DNT\":\"1\",\"Connection\":\"close\", \"Upgrade-Insecure-Requests\":\"1\"}\n",
    "\n",
    "page = requests.get(URL, headers=headers)\n",
    "\n",
    "soup1 = BeautifulSoup(page.content,\"html.parser\")\n",
    "#print(soup2.prettify())\n",
    "soup2 = BeautifulSoup(soup1.prettify(),\"html.parser\")\n",
    "\n",
    "title = soup2.find(id='productTitle').get_text().strip()\n",
    "\n",
    "\n",
    "price_whole = soup2.find('span', {'class': 'a-price-whole'}).get_text().strip().replace('\\n', '').replace(' ', '')\n",
    "price_fraction = soup2.find('span', {'class': 'a-price-fraction'}).get_text().strip()\n",
    "\n",
    "price = f\"{price_whole}{price_fraction}\"\n",
    "\n",
    "rating = soup2.find('span', {'class': 'a-size-base a-color-base'}).get_text().strip()\n",
    "\n",
    "description = soup2.find('div', attrs={'id': 'productDescription'}).find('span').get_text().strip()\n",
    "\n",
    "print(title)\n",
    "print(price)\n",
    "print(rating)\n",
    "print(description)\n",
    "\n"
   ]
  },
  {
   "cell_type": "code",
   "execution_count": 4,
   "id": "6dd546ec",
   "metadata": {},
   "outputs": [
    {
     "name": "stdout",
     "output_type": "stream",
     "text": [
      "Funny Got Data MIS Data Systems Business Analyst T-Shirt\n",
      "18.65\n",
      "5.0\n",
      "Funny Got Data MIS Data Systems Business Analyst\" is a fun pickup, perfect for people interested in MIS and interest data systems working in IT or working data consultation. Any business analyster or consultant working with large data will be amazed.\n"
     ]
    },
    {
     "data": {
      "text/plain": [
       "str"
      ]
     },
     "execution_count": 4,
     "metadata": {},
     "output_type": "execute_result"
    }
   ],
   "source": [
    "title = title.strip()\n",
    "\n",
    "print(title)\n",
    "print(price)\n",
    "print(rating)\n",
    "print(description)\n",
    "type(price)"
   ]
  },
  {
   "cell_type": "code",
   "execution_count": 5,
   "id": "7b6f9fdc",
   "metadata": {},
   "outputs": [
    {
     "name": "stdout",
     "output_type": "stream",
     "text": [
      "2023-05-13\n"
     ]
    }
   ],
   "source": [
    "import datetime\n",
    "\n",
    "today = datetime.date.today()\n",
    "print(today)"
   ]
  },
  {
   "cell_type": "code",
   "execution_count": 6,
   "id": "9de03abc",
   "metadata": {},
   "outputs": [],
   "source": [
    "import csv\n",
    "\n",
    "header = ['Title', 'Price','Rating','Description','Date']\n",
    "data = [title, price, rating, description, today]\n",
    "\n",
    "#with open('Amazon_Web_Scrapper_Dataset.csv','w', newline='', encoding='UTF8') as f:\n",
    "    #writer = csv.writer(f)\n",
    "    #writer.writerow(header)\n",
    "    #writer.writerow(data)\n",
    "\n"
   ]
  },
  {
   "cell_type": "code",
   "execution_count": 7,
   "id": "2ea2f3bc",
   "metadata": {},
   "outputs": [],
   "source": [
    "with open('Amazon_Web_Scrapper_Dataset.csv','a+', newline='', encoding='UTF8') as f:\n",
    "    writer = csv.writer(f)\n",
    "    writer.writerow(data)\n",
    "\n"
   ]
  },
  {
   "cell_type": "code",
   "execution_count": 8,
   "id": "920de9e9",
   "metadata": {},
   "outputs": [],
   "source": [
    "def check_price():\n",
    "    URL = 'https://www.amazon.de/-/en/Funny-Systems-Business-Analyst-T-Shirt/dp/B09F32Q8J8/ref=sr_1_5?crid=2HRUWST6GP9N3&keywords=got+data%3F+t-shirt&qid=1683913384&sprefix=got+data+t-shirt%2Caps%2C148&sr=8-5'\n",
    "\n",
    "    headers = {\"User-Agent\": \"Mozilla/5.0 (Windows NT 10.0; Win64; x64) AppleWebKit/537.36 (KHTML, like Gecko) Chrome/78.0.3904.108 Safari/537.36\", \"Accept-Encoding\":\"gzip, deflate\", \"Accept\":\"text/html,application/xhtml+xml,application/xml;q=0.9,*/*;q=0.8\", \"DNT\":\"1\",\"Connection\":\"close\", \"Upgrade-Insecure-Requests\":\"1\"}\n",
    "    \n",
    "    page = requests.get(URL, headers=headers)\n",
    "\n",
    "    soup1 = BeautifulSoup(page.content,\"html.parser\")\n",
    "\n",
    "    soup2 = BeautifulSoup(soup1.prettify(),\"html.parser\")\n",
    "    \n",
    "    title = soup2.find(id='productTitle').get_text().strip()\n",
    "\n",
    "\n",
    "    price_whole = soup2.find('span', {'class': 'a-price-whole'}).get_text().strip().replace('\\n', '').replace(' ', '')\n",
    "    price_fraction = soup2.find('span', {'class': 'a-price-fraction'}).get_text().strip()\n",
    "\n",
    "    price = f\"{price_whole}{price_fraction}\"\n",
    "\n",
    "    rating = soup2.find('span', {'class': 'a-size-base a-color-base'}).get_text().strip()\n",
    "\n",
    "    description = soup2.find('div', attrs={'id': 'productDescription'}).find('span').get_text().strip()\n",
    "    title = title.strip()\n",
    "    import datetime\n",
    "\n",
    "    today = datetime.date.today()\n",
    "    \n",
    "    import csv\n",
    "\n",
    "    header = ['Title', 'Price','Rating','Description','Date']\n",
    "    data = [title, price, rating, description, today]\n",
    "    \n",
    "    with open('Amazon_Web_Scrapper_Dataset.csv','a+', newline='', encoding='UTF8') as f:\n",
    "        writer = csv.writer(f)\n",
    "        writer.writerow(data)\n",
    " \n"
   ]
  },
  {
   "cell_type": "code",
   "execution_count": null,
   "id": "1ab58d60",
   "metadata": {},
   "outputs": [],
   "source": [
    "while(True):\n",
    "    check_price()\n",
    "    time.sleep(86400)"
   ]
  },
  {
   "cell_type": "code",
   "execution_count": null,
   "id": "278506e8",
   "metadata": {},
   "outputs": [],
   "source": [
    "import pandas as pd\n",
    "df = pd.read_csv(r'C:\\Users\\Bakhrom\\Amazon_Web_Scrapper_Dataset.csv')\n",
    "\n",
    "print(df)"
   ]
  },
  {
   "cell_type": "code",
   "execution_count": null,
   "id": "7604792c",
   "metadata": {},
   "outputs": [],
   "source": [
    "if(price < 14):\n",
    "    def \n",
    "        send_mail():\n",
    "        server = smtplib.SMTP_SSL('smtp.gmail.com',465)\n",
    "        server.ehlo()\n",
    "        #server.starttls()\n",
    "        server.ehlo()\n",
    "        server.login('mansurovb999@gmail.com','xxxxxxxxxxxxx')\n",
    "\n",
    "        subject = \"The Shirt you want is below $15! Now is your chance to buy!\"\n",
    "        body = \"Bakhirom, This is your last chance to buy your dream Data Analalyst shirt! Link here: https://www.amazon.com/Funny-Data-Systems-Business-Analyst/dp/B07FNW9FGJ/ref=sr_1_3?dchild=1&keywords=data+analyst+tshirt&qid=1626655184&sr=8-3\"\n",
    "\n",
    "        msg = f\"Subject: {subject}\\n\\n{body}\"\n",
    "\n",
    "        server.sendmail(\n",
    "            'mansurovb999@gmail.com',\n",
    "            msg\n",
    "\n",
    "        )"
   ]
  },
  {
   "cell_type": "code",
   "execution_count": null,
   "id": "1d42980c",
   "metadata": {},
   "outputs": [],
   "source": []
  },
  {
   "cell_type": "code",
   "execution_count": null,
   "id": "6d8a7751",
   "metadata": {},
   "outputs": [],
   "source": []
  },
  {
   "cell_type": "code",
   "execution_count": null,
   "id": "14904f3d",
   "metadata": {},
   "outputs": [],
   "source": []
  }
 ],
 "metadata": {
  "kernelspec": {
   "display_name": "Python 3 (ipykernel)",
   "language": "python",
   "name": "python3"
  },
  "language_info": {
   "codemirror_mode": {
    "name": "ipython",
    "version": 3
   },
   "file_extension": ".py",
   "mimetype": "text/x-python",
   "name": "python",
   "nbconvert_exporter": "python",
   "pygments_lexer": "ipython3",
   "version": "3.10.9"
  }
 },
 "nbformat": 4,
 "nbformat_minor": 5
}
